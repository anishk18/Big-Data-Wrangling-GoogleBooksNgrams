{
 "cells": [
  {
   "cell_type": "markdown",
   "id": "5fa04071",
   "metadata": {},
   "source": [
    "6. On your local machine (or on AWS outside of Spark) in python, read the CSV data from the S3 folder into a pandas DataFrame (You will have to research how to read data into pandas from S3 buckets). Note You must have first authenticated on your machine using aws configure on the command line to complete this step)."
   ]
  },
  {
   "cell_type": "code",
   "execution_count": null,
   "id": "9a561329",
   "metadata": {},
   "outputs": [
    {
     "name": "stdout",
     "output_type": "stream",
     "text": [
      "✅ Found ngrams_filtered.csv in bucket akarnik-bstn-bucket\n",
      "📂 Using cached local file: ngrams_filtered_local.csv\n",
      "✅ Data loaded successfully!\n",
      "   token  year  frequency  pages  books\n",
      "0  token  year  frequency  pages  books\n",
      "1   data  1584         16     14      1\n",
      "2   data  1614          3      2      1\n",
      "3   data  1627          1      1      1\n",
      "4   data  1631         22     18      1\n",
      "<class 'pandas.core.frame.DataFrame'>\n",
      "RangeIndex: 317 entries, 0 to 316\n",
      "Data columns (total 5 columns):\n",
      " #   Column     Non-Null Count  Dtype \n",
      "---  ------     --------------  ----- \n",
      " 0   token      317 non-null    object\n",
      " 1   year       317 non-null    object\n",
      " 2   frequency  317 non-null    object\n",
      " 3   pages      317 non-null    object\n",
      " 4   books      317 non-null    object\n",
      "dtypes: object(5)\n",
      "memory usage: 12.5+ KB\n",
      "None\n"
     ]
    }
   ],
   "source": [
    "# ===============================\n",
    "# Setup\n",
    "# ===============================\n",
    "# Make sure you have these installed:\n",
    "# pip install pandas boto3 s3fs\n",
    "\n",
    "import boto3\n",
    "import pandas as pd\n",
    "import os\n",
    "import sys\n",
    "\n",
    "# -------------------------------\n",
    "# Step 1: Define your S3 details\n",
    "# -------------------------------\n",
    "BUCKET_NAME = \"akarnik-bstn-bucket\"       # 🔹 Bucket\n",
    "OBJECT_KEY = \"ngrams_filtered.csv\"     # 🔹 File- same file as Bigdata_token\n",
    "LOCAL_FILE = \"ngrams_filtered_local.csv\"     # Local name for caching-same file as Bigdata_token_local\n",
    "\n",
    "s3 = boto3.client(\"s3\")\n",
    "\n",
    "# -------------------------------\n",
    "# Step 2: Check if file exists in S3\n",
    "# -------------------------------\n",
    "try:\n",
    "    s3.head_object(Bucket=BUCKET_NAME, Key=OBJECT_KEY)\n",
    "    print(f\"✅ Found {OBJECT_KEY} in bucket {BUCKET_NAME}\")\n",
    "except Exception as e:\n",
    "    print(f\"❌ File not found in S3: {e}\")\n",
    "    sys.exit(1)\n",
    "\n",
    "# -------------------------------\n",
    "# Step 3: Download only if not local\n",
    "# -------------------------------\n",
    "if not os.path.exists(LOCAL_FILE):\n",
    "    print(f\"⬇️ Downloading {OBJECT_KEY} from S3...\")\n",
    "    s3.download_file(BUCKET_NAME, OBJECT_KEY, LOCAL_FILE)\n",
    "    print(\"✅ Download complete\")\n",
    "else:\n",
    "    print(f\"📂 Using cached local file: {LOCAL_FILE}\")\n",
    "\n",
    "# -------------------------------\n",
    "# Step 4: Load into pandas\n",
    "# -------------------------------\n",
    "df = pd.read_csv(LOCAL_FILE)\n",
    "\n",
    "print(\"✅ Data loaded successfully!\")\n",
    "print(df.head())\n",
    "print(df.info())\n"
   ]
  },
  {
   "cell_type": "code",
   "execution_count": 19,
   "id": "c0dc29b9",
   "metadata": {},
   "outputs": [
    {
     "data": {
      "text/html": [
       "<div>\n",
       "<style scoped>\n",
       "    .dataframe tbody tr th:only-of-type {\n",
       "        vertical-align: middle;\n",
       "    }\n",
       "\n",
       "    .dataframe tbody tr th {\n",
       "        vertical-align: top;\n",
       "    }\n",
       "\n",
       "    .dataframe thead th {\n",
       "        text-align: right;\n",
       "    }\n",
       "</style>\n",
       "<table border=\"1\" class=\"dataframe\">\n",
       "  <thead>\n",
       "    <tr style=\"text-align: right;\">\n",
       "      <th></th>\n",
       "      <th>token</th>\n",
       "      <th>year</th>\n",
       "      <th>frequency</th>\n",
       "      <th>pages</th>\n",
       "      <th>books</th>\n",
       "    </tr>\n",
       "  </thead>\n",
       "  <tbody>\n",
       "    <tr>\n",
       "      <th>0</th>\n",
       "      <td>token</td>\n",
       "      <td>year</td>\n",
       "      <td>frequency</td>\n",
       "      <td>pages</td>\n",
       "      <td>books</td>\n",
       "    </tr>\n",
       "    <tr>\n",
       "      <th>1</th>\n",
       "      <td>data</td>\n",
       "      <td>1584</td>\n",
       "      <td>16</td>\n",
       "      <td>14</td>\n",
       "      <td>1</td>\n",
       "    </tr>\n",
       "    <tr>\n",
       "      <th>2</th>\n",
       "      <td>data</td>\n",
       "      <td>1614</td>\n",
       "      <td>3</td>\n",
       "      <td>2</td>\n",
       "      <td>1</td>\n",
       "    </tr>\n",
       "    <tr>\n",
       "      <th>3</th>\n",
       "      <td>data</td>\n",
       "      <td>1627</td>\n",
       "      <td>1</td>\n",
       "      <td>1</td>\n",
       "      <td>1</td>\n",
       "    </tr>\n",
       "    <tr>\n",
       "      <th>4</th>\n",
       "      <td>data</td>\n",
       "      <td>1631</td>\n",
       "      <td>22</td>\n",
       "      <td>18</td>\n",
       "      <td>1</td>\n",
       "    </tr>\n",
       "  </tbody>\n",
       "</table>\n",
       "</div>"
      ],
      "text/plain": [
       "   token  year  frequency  pages  books\n",
       "0  token  year  frequency  pages  books\n",
       "1   data  1584         16     14      1\n",
       "2   data  1614          3      2      1\n",
       "3   data  1627          1      1      1\n",
       "4   data  1631         22     18      1"
      ]
     },
     "execution_count": 19,
     "metadata": {},
     "output_type": "execute_result"
    }
   ],
   "source": [
    "df.head()"
   ]
  },
  {
   "cell_type": "code",
   "execution_count": 20,
   "id": "71b84518",
   "metadata": {},
   "outputs": [],
   "source": [
    "df = df.iloc[1:].reset_index(drop=True)\n"
   ]
  },
  {
   "cell_type": "code",
   "execution_count": 21,
   "id": "20e094ae",
   "metadata": {},
   "outputs": [
    {
     "data": {
      "text/html": [
       "<div>\n",
       "<style scoped>\n",
       "    .dataframe tbody tr th:only-of-type {\n",
       "        vertical-align: middle;\n",
       "    }\n",
       "\n",
       "    .dataframe tbody tr th {\n",
       "        vertical-align: top;\n",
       "    }\n",
       "\n",
       "    .dataframe thead th {\n",
       "        text-align: right;\n",
       "    }\n",
       "</style>\n",
       "<table border=\"1\" class=\"dataframe\">\n",
       "  <thead>\n",
       "    <tr style=\"text-align: right;\">\n",
       "      <th></th>\n",
       "      <th>token</th>\n",
       "      <th>year</th>\n",
       "      <th>frequency</th>\n",
       "      <th>pages</th>\n",
       "      <th>books</th>\n",
       "    </tr>\n",
       "  </thead>\n",
       "  <tbody>\n",
       "    <tr>\n",
       "      <th>0</th>\n",
       "      <td>data</td>\n",
       "      <td>1584</td>\n",
       "      <td>16</td>\n",
       "      <td>14</td>\n",
       "      <td>1</td>\n",
       "    </tr>\n",
       "    <tr>\n",
       "      <th>1</th>\n",
       "      <td>data</td>\n",
       "      <td>1614</td>\n",
       "      <td>3</td>\n",
       "      <td>2</td>\n",
       "      <td>1</td>\n",
       "    </tr>\n",
       "    <tr>\n",
       "      <th>2</th>\n",
       "      <td>data</td>\n",
       "      <td>1627</td>\n",
       "      <td>1</td>\n",
       "      <td>1</td>\n",
       "      <td>1</td>\n",
       "    </tr>\n",
       "    <tr>\n",
       "      <th>3</th>\n",
       "      <td>data</td>\n",
       "      <td>1631</td>\n",
       "      <td>22</td>\n",
       "      <td>18</td>\n",
       "      <td>1</td>\n",
       "    </tr>\n",
       "    <tr>\n",
       "      <th>4</th>\n",
       "      <td>data</td>\n",
       "      <td>1637</td>\n",
       "      <td>1</td>\n",
       "      <td>1</td>\n",
       "      <td>1</td>\n",
       "    </tr>\n",
       "    <tr>\n",
       "      <th>...</th>\n",
       "      <td>...</td>\n",
       "      <td>...</td>\n",
       "      <td>...</td>\n",
       "      <td>...</td>\n",
       "      <td>...</td>\n",
       "    </tr>\n",
       "    <tr>\n",
       "      <th>311</th>\n",
       "      <td>data</td>\n",
       "      <td>2004</td>\n",
       "      <td>201841</td>\n",
       "      <td>93539</td>\n",
       "      <td>3483</td>\n",
       "    </tr>\n",
       "    <tr>\n",
       "      <th>312</th>\n",
       "      <td>data</td>\n",
       "      <td>2005</td>\n",
       "      <td>197467</td>\n",
       "      <td>88901</td>\n",
       "      <td>3392</td>\n",
       "    </tr>\n",
       "    <tr>\n",
       "      <th>313</th>\n",
       "      <td>data</td>\n",
       "      <td>2006</td>\n",
       "      <td>203669</td>\n",
       "      <td>92960</td>\n",
       "      <td>3449</td>\n",
       "    </tr>\n",
       "    <tr>\n",
       "      <th>314</th>\n",
       "      <td>data</td>\n",
       "      <td>2007</td>\n",
       "      <td>168338</td>\n",
       "      <td>78986</td>\n",
       "      <td>3246</td>\n",
       "    </tr>\n",
       "    <tr>\n",
       "      <th>315</th>\n",
       "      <td>data</td>\n",
       "      <td>2008</td>\n",
       "      <td>105331</td>\n",
       "      <td>47811</td>\n",
       "      <td>2358</td>\n",
       "    </tr>\n",
       "  </tbody>\n",
       "</table>\n",
       "<p>316 rows × 5 columns</p>\n",
       "</div>"
      ],
      "text/plain": [
       "    token  year frequency  pages books\n",
       "0    data  1584        16     14     1\n",
       "1    data  1614         3      2     1\n",
       "2    data  1627         1      1     1\n",
       "3    data  1631        22     18     1\n",
       "4    data  1637         1      1     1\n",
       "..    ...   ...       ...    ...   ...\n",
       "311  data  2004    201841  93539  3483\n",
       "312  data  2005    197467  88901  3392\n",
       "313  data  2006    203669  92960  3449\n",
       "314  data  2007    168338  78986  3246\n",
       "315  data  2008    105331  47811  2358\n",
       "\n",
       "[316 rows x 5 columns]"
      ]
     },
     "execution_count": 21,
     "metadata": {},
     "output_type": "execute_result"
    }
   ],
   "source": [
    "df"
   ]
  },
  {
   "cell_type": "code",
   "execution_count": 22,
   "id": "c254a3c8",
   "metadata": {},
   "outputs": [
    {
     "name": "stdout",
     "output_type": "stream",
     "text": [
      "<class 'pandas.core.frame.DataFrame'>\n",
      "RangeIndex: 316 entries, 0 to 315\n",
      "Data columns (total 5 columns):\n",
      " #   Column     Non-Null Count  Dtype \n",
      "---  ------     --------------  ----- \n",
      " 0   token      316 non-null    object\n",
      " 1   year       316 non-null    object\n",
      " 2   frequency  316 non-null    object\n",
      " 3   pages      316 non-null    object\n",
      " 4   books      316 non-null    object\n",
      "dtypes: object(5)\n",
      "memory usage: 12.5+ KB\n"
     ]
    }
   ],
   "source": [
    "df.info()"
   ]
  },
  {
   "cell_type": "code",
   "execution_count": 23,
   "id": "79aaeda3",
   "metadata": {},
   "outputs": [
    {
     "data": {
      "text/html": [
       "<div>\n",
       "<style scoped>\n",
       "    .dataframe tbody tr th:only-of-type {\n",
       "        vertical-align: middle;\n",
       "    }\n",
       "\n",
       "    .dataframe tbody tr th {\n",
       "        vertical-align: top;\n",
       "    }\n",
       "\n",
       "    .dataframe thead th {\n",
       "        text-align: right;\n",
       "    }\n",
       "</style>\n",
       "<table border=\"1\" class=\"dataframe\">\n",
       "  <thead>\n",
       "    <tr style=\"text-align: right;\">\n",
       "      <th></th>\n",
       "      <th>token</th>\n",
       "      <th>year</th>\n",
       "      <th>frequency</th>\n",
       "      <th>pages</th>\n",
       "      <th>books</th>\n",
       "    </tr>\n",
       "  </thead>\n",
       "  <tbody>\n",
       "    <tr>\n",
       "      <th>count</th>\n",
       "      <td>316</td>\n",
       "      <td>316</td>\n",
       "      <td>316</td>\n",
       "      <td>316</td>\n",
       "      <td>316</td>\n",
       "    </tr>\n",
       "    <tr>\n",
       "      <th>unique</th>\n",
       "      <td>1</td>\n",
       "      <td>316</td>\n",
       "      <td>254</td>\n",
       "      <td>249</td>\n",
       "      <td>233</td>\n",
       "    </tr>\n",
       "    <tr>\n",
       "      <th>top</th>\n",
       "      <td>data</td>\n",
       "      <td>1584</td>\n",
       "      <td>1</td>\n",
       "      <td>1</td>\n",
       "      <td>1</td>\n",
       "    </tr>\n",
       "    <tr>\n",
       "      <th>freq</th>\n",
       "      <td>316</td>\n",
       "      <td>1</td>\n",
       "      <td>25</td>\n",
       "      <td>25</td>\n",
       "      <td>33</td>\n",
       "    </tr>\n",
       "  </tbody>\n",
       "</table>\n",
       "</div>"
      ],
      "text/plain": [
       "       token  year frequency pages books\n",
       "count    316   316       316   316   316\n",
       "unique     1   316       254   249   233\n",
       "top     data  1584         1     1     1\n",
       "freq     316     1        25    25    33"
      ]
     },
     "execution_count": 23,
     "metadata": {},
     "output_type": "execute_result"
    }
   ],
   "source": [
    "df.describe()"
   ]
  },
  {
   "cell_type": "code",
   "execution_count": 24,
   "id": "08f5c0fe",
   "metadata": {},
   "outputs": [
    {
     "data": {
      "text/plain": [
       "(316, 5)"
      ]
     },
     "execution_count": 24,
     "metadata": {},
     "output_type": "execute_result"
    }
   ],
   "source": [
    "df.shape"
   ]
  },
  {
   "cell_type": "markdown",
   "id": "9f4b7cfe",
   "metadata": {},
   "source": [
    "7. Plot the number of occurrences of the token (the frequency column) of data over the years using matplotlib."
   ]
  },
  {
   "cell_type": "code",
   "execution_count": 25,
   "id": "f913e922",
   "metadata": {},
   "outputs": [
    {
     "data": {
      "image/png": "[encoded data removed]",
      "text/plain": [
       "<Figure size 1200x600 with 1 Axes>"
      ]
     },
     "metadata": {},
     "output_type": "display_data"
    }
   ],
   "source": [
    "import matplotlib.pyplot as plt\n",
    "\n",
    "# Ensure 'year' and 'frequency' are numeric\n",
    "yearly_clean = yearly[yearly[\"year\"].str.isdigit()].copy()\n",
    "yearly_clean[\"year\"] = yearly_clean[\"year\"].astype(int)\n",
    "yearly_clean[\"frequency\"] = yearly_clean[\"frequency\"].astype(int)\n",
    "\n",
    "plt.figure(figsize=(12,6))\n",
    "plt.plot(yearly_clean[\"year\"], yearly_clean[\"frequency\"], marker=\"o\", linestyle=\"-\")\n",
    "plt.title(\"Frequency of token 'data' over time\", fontsize=16)\n",
    "plt.xlabel(\"Year\")\n",
    "plt.ylabel(\"Frequency\")\n",
    "plt.grid(True)\n",
    "plt.show()\n"
   ]
  },
  {
   "cell_type": "code",
   "execution_count": null,
   "id": "6d45a8a2",
   "metadata": {},
   "outputs": [],
   "source": []
  }
 ],
 "metadata": {
  "kernelspec": {
   "display_name": "Python 3",
   "language": "python",
   "name": "python3"
  },
  "language_info": {
   "codemirror_mode": {
    "name": "ipython",
    "version": 3
   },
   "file_extension": ".py",
   "mimetype": "text/x-python",
   "name": "python",
   "nbconvert_exporter": "python",
   "pygments_lexer": "ipython3",
   "version": "3.11.5"
  }
 },
 "nbformat": 4,
 "nbformat_minor": 5
}
